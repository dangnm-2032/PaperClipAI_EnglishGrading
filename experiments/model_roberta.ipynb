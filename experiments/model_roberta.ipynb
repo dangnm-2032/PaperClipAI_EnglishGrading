{
 "cells": [
  {
   "cell_type": "code",
   "execution_count": 1,
   "metadata": {},
   "outputs": [
    {
     "name": "stdout",
     "output_type": "stream",
     "text": [
      "[2024-01-08 21:18:44,658] [INFO] [real_accelerator.py:158:get_accelerator] Setting ds_accelerator to cuda (auto detect)\n"
     ]
    }
   ],
   "source": [
    "from transformers import RobertaModel, PreTrainedModel\n",
    "from torch import nn\n",
    "class CustomROBERTAModel(PreTrainedModel):\n",
    "      def __init__(self, config, transformer_model_name_or_path, num_feats):\n",
    "            super(CustomROBERTAModel, self).__init__(config)\n",
    "            self.roberta = RobertaModel.from_pretrained(\n",
    "                  transformer_model_name_or_path,\n",
    "                  config=config\n",
    "            )\n",
    "            ### New layers:\n",
    "            self.classification_layer = nn.Sequential(\n",
    "                  nn.Linear(config.hidden_size, 512),\n",
    "                  nn.GELU(),\n",
    "                  nn.Linear(512, 256),\n",
    "                  nn.GELU(),\n",
    "                  nn.Linear(256, 128),\n",
    "                  nn.GELU(),\n",
    "                  nn.Linear(128, 54),\n",
    "                  nn.GELU(),\n",
    "                  nn.Unflatten(1, (6, 9)),\n",
    "                  nn.Softmax(dim=2),\n",
    "            )\n",
    "\n",
    "      def forward(self, **inputs):\n",
    "            roberta_outputs = self.roberta(**inputs)\n",
    "            logits = self.classification_layer(roberta_outputs.pooler_output)\n",
    "            return logits\n",
    "\n",
    "      def _init_weights(self, module):\n",
    "            self.bert._init_weights(module)"
   ]
  },
  {
   "cell_type": "code",
   "execution_count": 2,
   "metadata": {},
   "outputs": [
    {
     "name": "stderr",
     "output_type": "stream",
     "text": [
      "Some weights of RobertaModel were not initialized from the model checkpoint at roberta-large and are newly initialized: ['roberta.pooler.dense.bias', 'roberta.pooler.dense.weight']\n",
      "You should probably TRAIN this model on a down-stream task to be able to use it for predictions and inference.\n"
     ]
    }
   ],
   "source": [
    "from transformers import AutoConfig, AutoTokenizer\n",
    "import torch\n",
    "base_model = 'roberta-large'\n",
    "checkpoint = '/home/yuuhanase/FPTU/EXE101/PaperClipAI_EnglishGrading/EnglishGradingModel'\n",
    "config = AutoConfig.from_pretrained(base_model)\n",
    "tokenizer = AutoTokenizer.from_pretrained(base_model)\n",
    "model = CustomROBERTAModel(\n",
    "    config=config, \n",
    "    transformer_model_name_or_path=base_model, \n",
    "    num_feats=6\n",
    ").to(\"cuda\") ## can be gpu\n",
    "# model = CustomROBERTAModel.from_pretrained(\n",
    "#     checkpoint, \n",
    "#     config=config, \n",
    "#     transformer_model_name_or_path=base_model,\n",
    "#     num_feats=6\n",
    "# )"
   ]
  },
  {
   "cell_type": "code",
   "execution_count": 4,
   "metadata": {},
   "outputs": [
    {
     "data": {
      "text/plain": [
       "(tensor([[0.1151, 0.1140, 0.1108, 0.1122, 0.1086, 0.1109, 0.1099, 0.1106, 0.1077],\n",
       "         [0.1125, 0.1080, 0.1074, 0.1111, 0.1139, 0.1173, 0.1129, 0.1095, 0.1074],\n",
       "         [0.1073, 0.1065, 0.1095, 0.1168, 0.1089, 0.1137, 0.1130, 0.1107, 0.1135],\n",
       "         [0.1120, 0.1141, 0.1169, 0.1081, 0.1164, 0.1079, 0.1084, 0.1079, 0.1083],\n",
       "         [0.1094, 0.1113, 0.1128, 0.1068, 0.1083, 0.1132, 0.1113, 0.1116, 0.1154],\n",
       "         [0.1095, 0.1151, 0.1142, 0.1116, 0.1063, 0.1101, 0.1133, 0.1115, 0.1085]],\n",
       "        device='cuda:0', grad_fn=<SelectBackward0>),\n",
       " torch.Size([1, 6, 9]))"
      ]
     },
     "execution_count": 4,
     "metadata": {},
     "output_type": "execute_result"
    }
   ],
   "source": [
    "text = \"Hello\"\n",
    "encoded_input = tokenizer(text, return_tensors='pt').to(\"cuda\")\n",
    "output = model(**encoded_input)\n",
    "output[0], output.size()"
   ]
  },
  {
   "cell_type": "code",
   "execution_count": 3,
   "metadata": {},
   "outputs": [
    {
     "name": "stderr",
     "output_type": "stream",
     "text": [
      "Some weights of RobertaModel were not initialized from the model checkpoint at roberta-large and are newly initialized: ['roberta.pooler.dense.bias', 'roberta.pooler.dense.weight']\n",
      "You should probably TRAIN this model on a down-stream task to be able to use it for predictions and inference.\n"
     ]
    },
    {
     "data": {
      "text/plain": [
       "BaseModelOutputWithPoolingAndCrossAttentions(last_hidden_state=tensor([[[-0.0384, -0.0209, -0.0141,  ..., -0.0523,  0.0802,  0.0632],\n",
       "         [ 0.3952,  0.0993, -0.6829,  ...,  0.1277, -0.4668,  0.4225],\n",
       "         [-0.0097, -0.0010,  0.0426,  ..., -0.0275,  0.0668,  0.0367]]],\n",
       "       grad_fn=<NativeLayerNormBackward0>), pooler_output=tensor([[-0.8011, -0.4364,  0.2403,  ..., -0.4839,  0.1486, -0.3779]],\n",
       "       grad_fn=<TanhBackward0>), hidden_states=None, past_key_values=None, attentions=None, cross_attentions=None)"
      ]
     },
     "execution_count": 3,
     "metadata": {},
     "output_type": "execute_result"
    }
   ],
   "source": [
    "from transformers import RobertaTokenizer, RobertaModel, AutoConfig\n",
    "tokenizer = RobertaTokenizer.from_pretrained('roberta-large')\n",
    "config = AutoConfig.from_pretrained('roberta-large')\n",
    "model = RobertaModel.from_pretrained('roberta-large')\n",
    "text = \"Hello\"\n",
    "encoded_input = tokenizer(text, return_tensors='pt')\n",
    "output = model(**encoded_input)\n",
    "output"
   ]
  },
  {
   "cell_type": "code",
   "execution_count": 4,
   "metadata": {},
   "outputs": [
    {
     "data": {
      "text/plain": [
       "BaseModelOutputWithPoolingAndCrossAttentions(last_hidden_state=tensor([[[-0.0384, -0.0209, -0.0141,  ..., -0.0523,  0.0802,  0.0632],\n",
       "         [ 0.3952,  0.0993, -0.6829,  ...,  0.1277, -0.4668,  0.4225],\n",
       "         [-0.0097, -0.0010,  0.0426,  ..., -0.0275,  0.0668,  0.0367]]],\n",
       "       grad_fn=<NativeLayerNormBackward0>), pooler_output=tensor([[-0.8011, -0.4364,  0.2403,  ..., -0.4839,  0.1486, -0.3779]],\n",
       "       grad_fn=<TanhBackward0>), hidden_states=None, past_key_values=None, attentions=None, cross_attentions=None)"
      ]
     },
     "execution_count": 4,
     "metadata": {},
     "output_type": "execute_result"
    }
   ],
   "source": [
    "output."
   ]
  },
  {
   "cell_type": "code",
   "execution_count": 10,
   "metadata": {},
   "outputs": [
    {
     "data": {
      "text/plain": [
       "{'cohesion': 2.383091002702713,\n",
       " 'syntax': 2.0666779577732086,\n",
       " 'vocabulary': 2.884359359741211,\n",
       " 'phraseology': 2.844240665435791,\n",
       " 'grammar': 2.9789209365844727,\n",
       " 'conventions': 2.2683973610401154}"
      ]
     },
     "execution_count": 10,
     "metadata": {},
     "output_type": "execute_result"
    }
   ],
   "source": [
    "inp_text = \"When a problem is a change you have to let it do the best on you no matter what is happening it can change your mind. sometimes you need to wake up and look what is around you because problems are the best way to change what you want to change along time ago. A problem is a change for you because it can make you see different and help you to understand how tings wok. First of all it can make you see different then the others. For example i remember that when i came to the United States i think that nothing was going to change me because i think that nothing was going to change me because everything was different that my country and then i realist that wrong because a problem may change you but sometimes can not change the way it is, but i remember that i was really shy but i think that change a lot because sometimes my problems make me think that there is more thing that i never see in my life but i just need to see it from a different way and dont let nothing happened and ruing the change that i want to make because of just a problem. For example i think that nothing was going to change me and that i dont need to be shy anymore became i need to start seeing everything in a different ways because you can get mad at every one but you need to know what is going to happened after, people may see you different but the only way that you know how to change is to do the best and don't let nothing or not body to change nothing about you. The way you want to change not one have that and can't do nothing about it because is your choice and your problems and you can decide what to do with it. second of all can help you to understand how things work. For instance my mom have a lot of problems but she have faith when she is around people, my mom is scare of high and i'm not scare of high i did not understand why my mos is scare of high and in not scare of high and every time i see my mom in a airplane it make me laugh because she is scare and is funny, but i see it from a different way and i like the high but also she have to understand that hoe things work in other people because it can no be the same as you. For example i think that my mom and me are different because we are and i have to understand that she does not like high and i need to understand that. to help someone to understand how things work you need to start to see how things work in that persons life. A problem is a change for you and can make you a different and help you to understand. Everyone has a different opinion and a different was to understand then others. everyone can see the different opinion and what other people think.\"\n",
    "#2.5,2.5,3.0,2.0,2.0,2.5\n",
    "tokenized_input = tokenizer(inp_text, return_tensors='pt', truncation=True)#.to(torch.device(\"cuda\"))\n",
    "output = model(**tokenized_input)[0]\n",
    "feats = ['cohesion', 'syntax', 'vocabulary', 'phraseology', 'grammar', 'conventions']\n",
    "result = {}\n",
    "for i in range(6):\n",
    "    result[feats[i]] = output[i].item()*5.0\n",
    "result"
   ]
  },
  {
   "cell_type": "code",
   "execution_count": 10,
   "metadata": {},
   "outputs": [],
   "source": [
    "from transformers import Trainer\n",
    "from torch import nn\n",
    "class CustomTrainer(Trainer):\n",
    "    def __int__(self, *args, **kwargs):\n",
    "        super().__int__(*args, **kwargs)\n",
    "    def compute_loss(self, model, inputs, return_outputs=False):\n",
    "        labels = inputs.pop(\"labels\")\n",
    "        # forward pass\n",
    "        logits = model(**inputs)\n",
    "        loss_fct = nn.MSELoss()\n",
    "        loss = loss_fct(logits, labels)\n",
    "        return (loss, logits) if return_outputs else loss"
   ]
  },
  {
   "cell_type": "code",
   "execution_count": 23,
   "metadata": {},
   "outputs": [
    {
     "data": {
      "text/plain": [
       "(tensor([[-0.3714, -1.2579,  0.3615,  0.9567,  0.4323,  0.4703, -0.3416, -0.5227,\n",
       "          -0.4308],\n",
       "         [-0.3717, -0.5112,  0.0627,  0.5598,  0.2792, -0.2005,  0.3077,  1.1931,\n",
       "          -0.8187],\n",
       "         [-1.5454,  0.8219,  0.2950, -0.8463,  1.3661, -1.5724, -1.1458, -1.3411,\n",
       "          -1.5289],\n",
       "         [-0.1115,  0.4887,  2.2682,  0.0564,  2.0264, -0.2742,  0.0707,  1.0282,\n",
       "           0.6832],\n",
       "         [-0.1112,  0.6495,  1.8468,  1.8657,  2.2472, -0.4522, -1.1466,  1.2399,\n",
       "           0.1270],\n",
       "         [-0.4857, -0.3033,  0.0491, -0.7390,  1.1182, -0.7626, -0.1415,  0.9473,\n",
       "          -1.7455]], requires_grad=True),\n",
       " tensor([[0.0267, 0.1060, 0.0501, 0.3237, 0.2265, 0.0965, 0.0599, 0.0485, 0.0621],\n",
       "         [0.0632, 0.0759, 0.2928, 0.0727, 0.0313, 0.1128, 0.1833, 0.0972, 0.0708],\n",
       "         [0.4313, 0.0229, 0.0747, 0.1114, 0.0550, 0.0088, 0.1499, 0.0586, 0.0873],\n",
       "         [0.0360, 0.0761, 0.0481, 0.0489, 0.0835, 0.0247, 0.1768, 0.1233, 0.3827],\n",
       "         [0.0760, 0.5801, 0.0519, 0.0835, 0.0054, 0.0792, 0.0699, 0.0383, 0.0157],\n",
       "         [0.0439, 0.1930, 0.0841, 0.0239, 0.3924, 0.0417, 0.0377, 0.1360, 0.0472]]),\n",
       " tensor([2.0580, 2.3313, 3.2600, 2.6039, 2.8558, 1.9508],\n",
       "        grad_fn=<NegBackward0>),\n",
       " tensor([[[-0.3714, -1.2579,  0.3615,  0.9567,  0.4323,  0.4703, -0.3416,\n",
       "           -0.5227, -0.4308],\n",
       "          [-0.3717, -0.5112,  0.0627,  0.5598,  0.2792, -0.2005,  0.3077,\n",
       "            1.1931, -0.8187],\n",
       "          [-1.5454,  0.8219,  0.2950, -0.8463,  1.3661, -1.5724, -1.1458,\n",
       "           -1.3411, -1.5289],\n",
       "          [-0.1115,  0.4887,  2.2682,  0.0564,  2.0264, -0.2742,  0.0707,\n",
       "            1.0282,  0.6832],\n",
       "          [-0.1112,  0.6495,  1.8468,  1.8657,  2.2472, -0.4522, -1.1466,\n",
       "            1.2399,  0.1270],\n",
       "          [-0.4857, -0.3033,  0.0491, -0.7390,  1.1182, -0.7626, -0.1415,\n",
       "            0.9473, -1.7455]]], grad_fn=<ViewBackward0>),\n",
       " tensor([[[0.0267, 0.1060, 0.0501, 0.3237, 0.2265, 0.0965, 0.0599, 0.0485,\n",
       "           0.0621],\n",
       "          [0.0632, 0.0759, 0.2928, 0.0727, 0.0313, 0.1128, 0.1833, 0.0972,\n",
       "           0.0708],\n",
       "          [0.4313, 0.0229, 0.0747, 0.1114, 0.0550, 0.0088, 0.1499, 0.0586,\n",
       "           0.0873],\n",
       "          [0.0360, 0.0761, 0.0481, 0.0489, 0.0835, 0.0247, 0.1768, 0.1233,\n",
       "           0.3827],\n",
       "          [0.0760, 0.5801, 0.0519, 0.0835, 0.0054, 0.0792, 0.0699, 0.0383,\n",
       "           0.0157],\n",
       "          [0.0439, 0.1930, 0.0841, 0.0239, 0.3924, 0.0417, 0.0377, 0.1360,\n",
       "           0.0472]]]),\n",
       " tensor([[1.6720, 1.9132, 1.5612, 1.2952, 1.8120, 0.6116, 1.2498, 0.9718, 1.0528]],\n",
       "        grad_fn=<NegBackward0>))"
      ]
     },
     "execution_count": 23,
     "metadata": {},
     "output_type": "execute_result"
    }
   ],
   "source": [
    "import torch\n",
    "loss = torch.nn.CrossEntropyLoss(reduction='none')\n",
    "input = torch.randn(6, 9, requires_grad=True)\n",
    "target = torch.randn(6, 9).softmax(dim=1)\n",
    "output = loss(input, target)\n",
    "uf = torch.nn.Unflatten(0, (1, 6))\n",
    "input1 = uf(input)\n",
    "target1 = uf(target)\n",
    "output1 = loss(input1, target1)\n",
    "input, target, output, input1, target1, output1"
   ]
  },
  {
   "cell_type": "code",
   "execution_count": 3,
   "metadata": {},
   "outputs": [
    {
     "name": "stdout",
     "output_type": "stream",
     "text": [
      "[[ 0.11881639 -0.32826933 -0.28465217 ... -0.30702746 -0.27665678\n",
      "  -0.03120262]\n",
      " [ 0.33210805 -0.17807008 -0.39799976 ... -0.33134732 -0.44188038\n",
      "  -0.18214278]]\n",
      "[ 3.16442847e-01  1.40082613e-01 -1.96205527e-01 -2.87030876e-01\n",
      "  1.14599153e-01  2.62114614e-01  6.62056580e-02  1.17777489e-01\n",
      " -3.89765769e-01 -3.14105675e-02 -1.52859405e-01  1.16654970e-01\n",
      " -9.76452082e-02 -1.49781913e-01  9.58365053e-02  4.44398344e-01\n",
      "  3.83993052e-02 -2.84109056e-01 -4.92166936e-01 -2.86633193e-01\n",
      "  2.18549252e-01 -2.27224678e-01  1.43126875e-01 -1.14250042e-01\n",
      "  2.11132258e-01 -9.97589156e-02  2.91066110e-01 -1.85742468e-01\n",
      "  1.93034619e-01 -2.28425302e-02  1.00717500e-01 -1.31035596e-01\n",
      "  7.27137774e-02 -3.23491871e-01  6.61543086e-02  7.55714625e-02\n",
      " -1.79670528e-01  7.10257739e-02 -1.51189238e-01  4.73104529e-02\n",
      " -3.85309160e-01  8.64219479e-03  1.28303215e-01 -1.08192824e-01\n",
      " -2.66683966e-01  2.98992068e-01 -1.57157451e-01  4.21793619e-03\n",
      "  4.66052927e-02  1.72685653e-01  1.26308694e-01  2.32042745e-01\n",
      "  1.03762625e-02 -2.46854901e-01  1.40943227e-03  2.40274459e-01\n",
      "  9.64554027e-03 -4.20958688e-03 -8.63340218e-03 -1.50501207e-01\n",
      " -1.50415629e-01 -7.29637742e-02  1.85057223e-01 -1.06179297e-01\n",
      "  1.43458635e-01  2.55913325e-02  1.30279809e-01  1.71853788e-02\n",
      "  1.00696944e-01 -1.18593492e-01  1.15233853e-01 -9.03728604e-02\n",
      " -3.72368634e-01  3.34968150e-01 -1.21947706e-01  8.51716548e-02\n",
      " -1.54692054e-01 -1.26637025e-02 -2.44363949e-01  7.33332515e-01\n",
      " -7.88451076e-01 -6.16711862e-02 -1.92551747e-01 -8.15685838e-03\n",
      "  3.12504888e-01  2.78674871e-01 -2.45333627e-01 -6.69499859e-02\n",
      " -6.14620447e-02  3.33295256e-01 -1.11243151e-01  1.53322458e-01\n",
      "  6.76894635e-02  2.06095368e-01  2.87116170e-02  2.94722915e-01\n",
      " -3.59541960e-02  3.26249182e-01 -1.89664826e-01 -1.05724372e-01\n",
      " -6.07610829e-02 -3.67829174e-01  1.87941045e-01 -1.40875531e-02\n",
      "  3.03292163e-02 -5.87192997e-02 -2.75037643e-02  1.90152004e-01\n",
      " -1.72167227e-01 -4.74570423e-01  4.31178182e-01 -1.65968895e-01\n",
      "  2.78589666e-01  6.09675236e-02  9.07438248e-02 -3.84538248e-02\n",
      " -9.35555100e-02  3.93734634e-01 -1.53470514e-02 -5.78381121e-03\n",
      " -3.95010024e-01  2.86767125e-01  2.95542121e-01 -1.15278982e-01\n",
      "  1.22620858e-01 -2.14343257e-02  1.00461647e-01  5.40956445e-02\n",
      " -2.23116443e-01 -2.97307551e-01 -1.09802447e-01  9.60895345e-02\n",
      " -1.90859914e-01  1.74040183e-01 -2.01179549e-01  5.89561649e-02\n",
      " -2.05885172e-01  3.19870234e-01 -1.45186787e-03 -5.31243309e-02\n",
      " -1.02946244e-01  3.09282535e-04 -7.98374265e-02  3.67825925e-01\n",
      " -3.35431814e-01 -4.45613086e-01  2.83437073e-02 -1.50315598e-01\n",
      " -3.37469965e-01  2.07492545e-01 -2.41129659e-02  2.98413545e-01\n",
      "  2.29344480e-02  4.74059395e-02 -9.22208875e-02 -2.61186361e-01\n",
      "  1.02522969e-01  9.33049992e-02  1.50569454e-01 -7.58284479e-02\n",
      " -1.53113902e-02 -3.01740408e-01  2.10815623e-01 -2.55566537e-01\n",
      "  1.82802044e-02  3.16632450e-01  3.78468558e-02  1.71238244e-01\n",
      " -4.27574873e-01  1.37631625e-01  4.36818376e-02 -1.67317897e-01\n",
      "  7.15289731e-03 -1.21670201e-01  3.08099568e-01  3.42618734e-01\n",
      "  2.36250907e-01 -1.86366260e-01 -1.70052454e-01  1.01973794e-01\n",
      " -2.41154302e-02  7.03366548e-02  2.02073958e-02 -5.75011134e-01\n",
      " -9.36245918e-02  2.80995965e-02 -2.96180010e-01  1.48528695e-01\n",
      " -8.82549118e-03 -3.67870033e-01  3.48188095e-02 -1.72128409e-01\n",
      "  2.49225333e-01 -4.82310429e-02 -2.40049846e-02  7.99734965e-02\n",
      " -9.00989622e-02  6.50842786e-02  2.80089080e-02  1.73801750e-01\n",
      "  4.38255608e-01  2.90050238e-01 -1.63950384e-01 -2.26001978e-01\n",
      " -4.18623120e-01  1.13413751e-01  3.77220094e-01  5.09090781e-01\n",
      "  2.93713845e-02 -4.77645770e-02  1.34985968e-01 -1.18904494e-01\n",
      "  1.63560599e-01 -6.64467871e-01 -5.18374555e-02  1.01240635e-01\n",
      "  3.42305750e-01  1.45998746e-01 -6.71371073e-02 -3.54928672e-01\n",
      " -3.51864100e-02 -3.01842630e-01 -3.08109194e-01  1.24908134e-01\n",
      " -5.21497607e-01  3.51995468e-01 -1.89050451e-01 -1.35738283e-01\n",
      "  2.31773645e-01 -2.15733737e-01  1.79725379e-01  1.59128144e-01\n",
      " -1.64453238e-01  1.78613037e-01 -3.65488172e-01  2.78596077e-02\n",
      "  2.20430583e-01  2.22866349e-02 -1.82142347e-01 -7.33231455e-02\n",
      "  2.52897620e-01  2.77983576e-01 -6.66728765e-02 -8.88517946e-02\n",
      "  6.03692889e-01  2.08602116e-01  8.93006623e-02  2.69986033e-01\n",
      "  3.19366574e-01 -3.85807753e-02 -1.57707140e-01 -1.47915035e-01\n",
      "  4.66003343e-02  2.98699737e-02  3.99891227e-01  3.54821146e-01\n",
      "  1.37746928e-03 -2.04756737e-01  3.10268641e-01  3.19480628e-01\n",
      " -1.57958835e-01 -1.66642100e-01 -2.49200627e-01 -7.08620027e-02\n",
      "  1.96298659e-02  1.82945117e-01 -6.02898419e-01  6.20266616e-01\n",
      " -1.44332454e-01 -2.15188771e-01 -3.18220884e-01  2.47897785e-02\n",
      " -4.03190047e-01  2.41917491e-01  2.39180878e-01  1.56905562e-01\n",
      "  3.23259413e-01 -4.39452082e-01  2.18191221e-01 -2.57602811e-01\n",
      " -1.70298785e-01  3.67574275e-01 -5.08368425e-02 -3.71692851e-02\n",
      "  1.85193405e-01  1.61917686e-01  2.70737968e-02 -1.89018130e-01\n",
      " -1.05433762e-01 -3.55762132e-02 -2.60693818e-01  2.88218886e-01\n",
      "  1.84987634e-01  1.40078515e-02 -6.63634092e-02  5.18349931e-02\n",
      "  8.94052610e-02 -1.90877050e-01 -6.88520670e-02 -5.40809110e-02\n",
      " -7.72554148e-03 -1.08408466e-01 -7.94571936e-02 -4.35449302e-01\n",
      " -9.34782475e-02 -2.20603749e-01  5.68892583e-02  2.02471495e-01\n",
      "  3.18606466e-01 -5.38610592e-02  3.25129062e-01 -9.43197012e-02\n",
      " -1.75650299e-01  2.90118545e-01 -2.99362600e-01  1.50131688e-01\n",
      " -2.29440123e-01 -1.07355550e-01 -1.53806314e-01 -1.96987465e-01\n",
      " -1.10988557e-01  2.20312282e-01  3.03467005e-01  9.72982198e-02\n",
      "  3.37228447e-01  3.69996667e-01 -2.18205974e-01  8.59942883e-02\n",
      " -6.50889650e-02 -2.00137571e-01 -6.31548911e-02  5.83508611e-02\n",
      "  1.75699145e-01 -3.58173281e-01 -1.28110781e-01  6.62153214e-02\n",
      " -2.38162085e-01  8.81263316e-02  2.89961874e-01  2.39627883e-01\n",
      " -1.45195454e-01 -3.10835894e-02  1.70577034e-01 -2.69548357e-01\n",
      " -3.64107907e-01  4.45646763e-01 -4.74509608e-04  4.31006290e-02\n",
      " -3.09610516e-01  2.34636217e-01 -3.13598737e-02 -2.08864927e-01\n",
      " -1.13233328e-01  2.32223779e-01  1.52165800e-01 -5.95761165e-02\n",
      "  7.54159456e-03 -2.24319026e-01 -1.47517668e-02 -9.22551081e-02\n",
      "  2.60274172e-01 -5.69362268e-02 -9.08826366e-02 -3.54739010e-01\n",
      "  3.34980339e-01  1.57876536e-01 -1.19493937e-03 -9.58412327e-03\n",
      "  2.45816316e-02 -2.35984623e-02 -7.40967840e-02 -8.97299275e-02\n",
      "  2.51030028e-01 -9.33192223e-02 -2.75524884e-01 -5.03983200e-02\n",
      "  1.32467687e-01  8.31387341e-02  7.00341910e-02 -6.97695464e-02\n",
      "  1.73940465e-01  8.52050111e-02 -4.23113644e-01 -5.08912802e-02\n",
      " -3.91967624e-01  2.62278825e-01  2.34712362e-01  2.26298094e-01\n",
      " -1.04738116e-01 -1.93216391e-02 -3.49720001e-01 -1.00764915e-01\n",
      "  9.93841514e-02  4.51062135e-02  1.71766400e-01 -4.92400259e-01\n",
      " -2.47169346e-01  1.54836625e-01  1.38340920e-01 -1.16825718e-02\n",
      " -2.14626402e-01  4.23679091e-02 -2.68230319e-01  2.03354478e-01\n",
      "  4.58239093e-02 -7.89738670e-02  3.93616445e-02 -1.66386366e-01\n",
      " -2.59787142e-02 -6.36836737e-02  4.41556036e-01 -1.33326918e-01\n",
      " -5.55140674e-02  1.49696562e-02  2.55574398e-02 -1.31569117e-01\n",
      "  1.84939802e-02 -1.15521476e-01 -2.54757822e-01  3.49164270e-02\n",
      " -9.90773365e-02 -1.67574167e-01  1.59361348e-01 -4.60318267e-01\n",
      " -5.52037582e-02 -1.57764003e-01 -1.12528875e-01  1.06833354e-01\n",
      " -2.58060902e-01 -2.23986477e-01 -4.75004375e-01  2.73654070e-02\n",
      " -7.56878108e-02 -1.81801841e-01  3.23931336e-01  9.51680392e-02\n",
      " -1.87694818e-01 -7.04846904e-02 -2.62527406e-01 -2.54565805e-01\n",
      " -4.05004341e-03 -2.13372037e-01 -2.54479656e-03 -1.42757028e-01\n",
      " -1.36697799e-01 -2.52024353e-01  6.43529594e-01 -2.98793942e-01\n",
      " -1.97488338e-01 -2.32724041e-01 -9.30674374e-02  1.34569556e-01\n",
      "  4.68502752e-02  1.66829228e-02  1.38288975e-01  2.19287544e-01\n",
      "  1.69734985e-01 -1.85797662e-01 -8.51232186e-02 -1.07093215e-01\n",
      "  2.49814361e-01 -2.28959325e-04  1.36024700e-02 -1.54822275e-01\n",
      "  6.63775206e-03  3.55201948e-04 -4.07553613e-02  1.41008096e-02\n",
      "  6.52583897e-01  6.37139156e-02 -2.13966638e-01  2.23733500e-01\n",
      " -8.11587051e-02  1.19775973e-01  1.80066094e-01 -2.36925989e-01\n",
      "  2.90213406e-01 -2.34461233e-01  3.14879984e-01  3.59347761e-02\n",
      "  2.79437661e-01  3.36360067e-01 -6.78430423e-02 -3.58030170e-01\n",
      "  4.16816086e-01 -1.91777200e-01  1.80083349e-01 -2.76947916e-01\n",
      " -1.88880581e-02 -2.08980236e-02 -4.91895378e-01 -7.97692761e-02\n",
      "  2.88135171e-01  6.91702822e-03 -2.29756907e-01 -7.13133588e-02\n",
      "  1.10676408e-01  1.00757994e-01  1.00077651e-01 -2.85694599e-01\n",
      "  7.93668032e-02 -5.53909898e-01 -1.96199968e-01 -2.60287195e-01\n",
      "  5.84568441e-01  2.71182537e-01  3.75238597e-01  2.86723021e-02\n",
      "  1.58531338e-01  1.87551782e-01  6.06720567e-01 -2.90231667e-02\n",
      "  2.62623969e-02 -8.30502808e-02  1.89159781e-01 -1.35985259e-02\n",
      " -6.70534745e-02 -2.53341377e-01 -3.73043478e-01  5.07186279e-02\n",
      " -2.57841021e-01 -2.40305692e-01  2.00227529e-01 -9.35115367e-02\n",
      " -3.55879404e-02 -2.70764351e-01  9.90111679e-02  1.22825190e-01\n",
      " -2.58356154e-01 -1.09878086e-01 -3.40787828e-01 -1.06248939e-02\n",
      " -5.15557714e-02 -6.03016019e-01  4.59224693e-02  1.88865423e-01\n",
      " -2.11891487e-01 -1.59497112e-01  1.42642528e-01  2.47170813e-02\n",
      "  2.78864980e-01  4.08717871e-01  9.34575051e-02 -1.08182788e-01\n",
      "  6.15456980e-03 -6.51003271e-02  3.21334414e-02  1.45698652e-01\n",
      "  2.48806804e-01 -1.80040486e-02 -3.17320794e-01 -1.06508553e-01\n",
      " -7.53774941e-02  1.38493091e-01 -9.09824595e-02 -1.69362932e-01\n",
      "  5.91023088e-01  3.09222817e-01  3.45614672e-01 -2.75996089e-01\n",
      "  2.21570760e-01  1.54677197e-01 -1.67671859e-01 -7.67085552e-02\n",
      "  2.41371557e-01  3.02652985e-01  1.42106518e-01  3.95039558e-01\n",
      "  9.74504128e-02 -6.62058294e-01  1.84903905e-01 -9.53901261e-02\n",
      " -2.47973919e-01 -2.43970994e-02 -6.96172342e-02 -1.17768921e-01\n",
      "  2.14842483e-01 -8.43171328e-02 -4.37526464e-01  5.26348650e-02\n",
      "  2.58954525e-01  2.41840079e-01 -2.39016414e-01 -4.00759935e-01\n",
      "  1.20556556e-01  1.44749209e-01  2.02797055e-01 -1.58899426e-01\n",
      " -2.02040263e-02 -3.08187574e-01 -1.89081341e-01  6.29875541e-01\n",
      "  1.01468839e-01 -1.66625544e-01 -8.78787190e-02 -5.18168986e-01\n",
      "  2.63453066e-01 -1.85476318e-01 -4.78549004e-02 -1.78071052e-01\n",
      " -7.91185051e-02 -1.50845930e-01 -1.15865454e-01 -1.90790981e-01\n",
      " -3.19139183e-01  1.19730355e-02  2.37669185e-01 -1.20980144e-01\n",
      " -1.47008896e-01 -1.14511631e-01 -1.83602437e-01  2.29545400e-01\n",
      " -2.33384073e-02 -1.85857564e-01 -1.13885077e-02  2.24838823e-01\n",
      " -2.65315980e-01 -1.40091389e-01  7.67372102e-02 -2.04640150e-01\n",
      " -2.91335732e-01 -1.42166063e-01  2.12872356e-01  1.61817431e-01\n",
      "  3.73328067e-02 -6.72877580e-02  1.16175488e-01  3.42050552e-01\n",
      " -1.25035435e-01 -1.45008653e-01 -4.66227710e-01  1.10039469e-02\n",
      " -7.87299052e-02  5.39284237e-02 -3.22640687e-03 -1.01204455e-01\n",
      "  2.08005309e-03  1.01772465e-01 -4.22262192e-01 -2.54910558e-01\n",
      "  2.51765341e-01  6.10147059e-01  7.36063346e-02 -2.89373249e-01\n",
      "  4.94474977e-01 -2.82026529e-01  2.72094160e-01  3.22641134e-01\n",
      "  8.83618742e-02  2.34914303e-01 -2.36301303e-01 -9.82566997e-02\n",
      "  5.08576743e-02  1.93269074e-01 -1.29351646e-01  1.56848714e-01\n",
      "  1.08270667e-01 -2.57525384e-01 -3.20242107e-01  1.28521800e-01\n",
      "  2.20127538e-01 -7.82986432e-02  2.47733280e-01  2.72838682e-01\n",
      " -7.21970648e-02 -8.72469395e-02 -6.34336025e-02 -2.91121118e-02\n",
      "  1.56910345e-01  2.04807356e-01  1.80535521e-02 -8.42502788e-02\n",
      " -4.47500963e-03  2.52364986e-02  1.22934863e-01 -2.49292683e-02\n",
      "  1.70845330e-01 -1.61872692e-02 -1.23731196e-02  3.57268423e-01\n",
      " -8.94988701e-02  9.48517472e-02 -2.26692371e-02 -2.98402637e-01\n",
      "  4.07606438e-02  7.94464797e-02  2.01159075e-01  2.52581179e-01\n",
      "  4.98308279e-02 -1.69726238e-01 -1.45007133e-01 -1.66501284e-01\n",
      " -2.22091675e-01 -7.39908591e-02 -3.68769735e-01  2.67728567e-01\n",
      " -2.44132392e-02 -9.49182138e-02 -4.98626847e-03  4.40980829e-02\n",
      " -6.45971205e-03  4.00728792e-01 -2.22792104e-01 -1.91461165e-02\n",
      "  6.51487857e-02 -3.33512396e-01 -9.52696055e-02 -2.85724342e-01\n",
      "  4.99633491e-01  2.13613272e-01 -1.50224373e-01  5.66975959e-02\n",
      "  1.31936176e-02  5.48312306e-01 -1.18953548e-01  2.21359923e-01\n",
      "  5.90510294e-02  2.57754236e-01  3.33758183e-02  2.42712945e-01\n",
      " -5.38059354e-01  2.16912955e-01 -1.04693495e-01  1.73136685e-02\n",
      "  1.49958342e-01  1.93352148e-01  5.01724362e-01  5.47716260e-01\n",
      " -4.02514488e-02 -6.10761419e-02  4.02787775e-01 -1.67808563e-01\n",
      "  1.99572444e-01  1.50958076e-01 -1.68986812e-01 -2.40400434e-02\n",
      "  7.72623252e-03  4.34114896e-02 -1.35969301e-03  3.88031006e-01\n",
      "  1.33587587e+00  4.65285450e-01 -1.94146544e-01  4.65219796e-01\n",
      " -3.36631723e-02  2.56355941e-01  2.16139909e-02  4.49536651e-01\n",
      "  1.44630760e-01 -6.21210456e-01  5.37995324e-02  7.13302419e-02\n",
      "  2.42385939e-01  1.60317831e-02  2.26143643e-01 -4.57174212e-01\n",
      " -2.59847820e-01 -6.82218447e-02  5.38163297e-02  2.31143311e-01\n",
      "  1.53083757e-01  2.65571624e-01  1.22566782e-01  9.04566571e-02\n",
      "  2.72186454e-02 -5.50201163e-02  1.91007569e-01  2.92753875e-01]\n"
     ]
    }
   ],
   "source": [
    "from sentence_transformers import SentenceTransformer\n",
    "\n",
    "# INPUT TEXT MUST BE ALREADY WORD-SEGMENTED!\n",
    "sentences = [\"Cô ấy là một người vui_tính .\", \n",
    "             \"Cô ấy cười nói suốt cả ngày .\"]\n",
    "\n",
    "model = SentenceTransformer('bkai-foundation-models/vietnamese-bi-encoder')\n",
    "embeddings = model.encode(sentences)\n",
    "print(embeddings)\n",
    "\n",
    "input = 'con cac'\n",
    "input_e = model.encode(input)\n",
    "print(input_e)\n",
    "print()"
   ]
  }
 ],
 "metadata": {
  "kernelspec": {
   "display_name": "base",
   "language": "python",
   "name": "python3"
  },
  "language_info": {
   "codemirror_mode": {
    "name": "ipython",
    "version": 3
   },
   "file_extension": ".py",
   "mimetype": "text/x-python",
   "name": "python",
   "nbconvert_exporter": "python",
   "pygments_lexer": "ipython3",
   "version": "3.11.5"
  }
 },
 "nbformat": 4,
 "nbformat_minor": 2
}
