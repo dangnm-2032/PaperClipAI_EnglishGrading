{
 "cells": [
  {
   "cell_type": "code",
   "execution_count": 3,
   "metadata": {},
   "outputs": [
    {
     "name": "stdout",
     "output_type": "stream",
     "text": [
      "[2024-01-07 14:55:10,482] [INFO] [real_accelerator.py:158:get_accelerator] Setting ds_accelerator to cuda (auto detect)\n"
     ]
    }
   ],
   "source": [
    "from transformers import BertModel, PreTrainedModel\n",
    "from torch import nn\n",
    "class CustomBERTModel(PreTrainedModel):\n",
    "      def __init__(self, config, transformer_model_name_or_path, num_feats):\n",
    "            super(CustomBERTModel, self).__init__(config)\n",
    "            self.bert = BertModel.from_pretrained(\n",
    "                  transformer_model_name_or_path,\n",
    "                  config=config\n",
    "            )\n",
    "            ### New layers:\n",
    "            self.regression_layer = nn.Sequential(\n",
    "                  nn.Linear(config.hidden_size, 384),\n",
    "                  nn.LeakyReLU(),\n",
    "                  nn.Linear(384, 192),\n",
    "                  nn.LeakyReLU(),\n",
    "                  nn.Linear(192, 96),\n",
    "                  nn.LeakyReLU(),\n",
    "                  nn.Linear(96, 48),\n",
    "                  nn.LeakyReLU(),\n",
    "                  nn.Linear(48, 24),\n",
    "                  nn.LeakyReLU(),\n",
    "                  nn.Linear(24, 12),\n",
    "                  nn.LeakyReLU(),\n",
    "                  nn.Linear(12, num_feats),\n",
    "                  nn.Sigmoid(),\n",
    "            )\n",
    "\n",
    "      def forward(self, **inputs):\n",
    "            bert_outputs = self.bert(**inputs)\n",
    "            logits = self.regression_layer(bert_outputs.pooler_output)\n",
    "            return logits\n",
    "\n",
    "      def _init_weights(self, module):\n",
    "            self.bert._init_weights(module)"
   ]
  },
  {
   "cell_type": "code",
   "execution_count": 4,
   "metadata": {},
   "outputs": [],
   "source": [
    "from transformers import AutoConfig, AutoTokenizer\n",
    "import torch\n",
    "base_model = 'bert-base-uncased'\n",
    "checkpoint = '/home/yuuhanase/FPTU/EXE101/PaperClipAI_EnglishGrading/EnglishGradingModel'\n",
    "config = AutoConfig.from_pretrained(base_model)\n",
    "tokenizer = AutoTokenizer.from_pretrained(base_model)\n",
    "# model = CustomBERTModel(config=config, transformer_model_name_or_path=base_model, num_feats=6).to(\"cuda\") ## can be gpu\n",
    "model = CustomBERTModel.from_pretrained(\n",
    "    checkpoint, \n",
    "    config=config, \n",
    "    transformer_model_name_or_path=base_model,\n",
    "    num_feats=6\n",
    ")"
   ]
  },
  {
   "cell_type": "code",
   "execution_count": 10,
   "metadata": {},
   "outputs": [
    {
     "data": {
      "text/plain": [
       "{'cohesion': 2.383091002702713,\n",
       " 'syntax': 2.0666779577732086,\n",
       " 'vocabulary': 2.884359359741211,\n",
       " 'phraseology': 2.844240665435791,\n",
       " 'grammar': 2.9789209365844727,\n",
       " 'conventions': 2.2683973610401154}"
      ]
     },
     "execution_count": 10,
     "metadata": {},
     "output_type": "execute_result"
    }
   ],
   "source": [
    "inp_text = \"When a problem is a change you have to let it do the best on you no matter what is happening it can change your mind. sometimes you need to wake up and look what is around you because problems are the best way to change what you want to change along time ago. A problem is a change for you because it can make you see different and help you to understand how tings wok. First of all it can make you see different then the others. For example i remember that when i came to the United States i think that nothing was going to change me because i think that nothing was going to change me because everything was different that my country and then i realist that wrong because a problem may change you but sometimes can not change the way it is, but i remember that i was really shy but i think that change a lot because sometimes my problems make me think that there is more thing that i never see in my life but i just need to see it from a different way and dont let nothing happened and ruing the change that i want to make because of just a problem. For example i think that nothing was going to change me and that i dont need to be shy anymore became i need to start seeing everything in a different ways because you can get mad at every one but you need to know what is going to happened after, people may see you different but the only way that you know how to change is to do the best and don't let nothing or not body to change nothing about you. The way you want to change not one have that and can't do nothing about it because is your choice and your problems and you can decide what to do with it. second of all can help you to understand how things work. For instance my mom have a lot of problems but she have faith when she is around people, my mom is scare of high and i'm not scare of high i did not understand why my mos is scare of high and in not scare of high and every time i see my mom in a airplane it make me laugh because she is scare and is funny, but i see it from a different way and i like the high but also she have to understand that hoe things work in other people because it can no be the same as you. For example i think that my mom and me are different because we are and i have to understand that she does not like high and i need to understand that. to help someone to understand how things work you need to start to see how things work in that persons life. A problem is a change for you and can make you a different and help you to understand. Everyone has a different opinion and a different was to understand then others. everyone can see the different opinion and what other people think.\"\n",
    "#2.5,2.5,3.0,2.0,2.0,2.5\n",
    "tokenized_input = tokenizer(inp_text, return_tensors='pt', truncation=True)#.to(torch.device(\"cuda\"))\n",
    "output = model(**tokenized_input)[0]\n",
    "feats = ['cohesion', 'syntax', 'vocabulary', 'phraseology', 'grammar', 'conventions']\n",
    "result = {}\n",
    "for i in range(6):\n",
    "    result[feats[i]] = output[i].item()*5.0\n",
    "result"
   ]
  },
  {
   "cell_type": "code",
   "execution_count": 10,
   "metadata": {},
   "outputs": [],
   "source": [
    "from transformers import Trainer\n",
    "from torch import nn\n",
    "class CustomTrainer(Trainer):\n",
    "    def __int__(self, *args, **kwargs):\n",
    "        super().__int__(*args, **kwargs)\n",
    "    def compute_loss(self, model, inputs, return_outputs=False):\n",
    "        labels = inputs.pop(\"labels\")\n",
    "        # forward pass\n",
    "        logits = model(**inputs)\n",
    "        loss_fct = nn.MSELoss()\n",
    "        loss = loss_fct(logits, labels)\n",
    "        return (loss, logits) if return_outputs else loss"
   ]
  },
  {
   "cell_type": "code",
   "execution_count": null,
   "metadata": {},
   "outputs": [],
   "source": [
    "trainer"
   ]
  }
 ],
 "metadata": {
  "kernelspec": {
   "display_name": "base",
   "language": "python",
   "name": "python3"
  },
  "language_info": {
   "codemirror_mode": {
    "name": "ipython",
    "version": 3
   },
   "file_extension": ".py",
   "mimetype": "text/x-python",
   "name": "python",
   "nbconvert_exporter": "python",
   "pygments_lexer": "ipython3",
   "version": "3.11.5"
  }
 },
 "nbformat": 4,
 "nbformat_minor": 2
}
